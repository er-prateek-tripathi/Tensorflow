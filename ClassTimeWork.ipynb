{
 "cells": [
  {
   "cell_type": "code",
   "execution_count": 1,
   "outputs": [],
   "source": [
    "import tensorflow as tf"
   ],
   "metadata": {
    "collapsed": false,
    "pycharm": {
     "name": "#%%\n"
    }
   }
  },
  {
   "cell_type": "code",
   "execution_count": 2,
   "outputs": [],
   "source": [
    "a = tf.constant([[1,2,3]])"
   ],
   "metadata": {
    "collapsed": false,
    "pycharm": {
     "name": "#%%\n"
    }
   }
  },
  {
   "cell_type": "code",
   "execution_count": 3,
   "outputs": [
    {
     "data": {
      "text/plain": "TensorShape([1, 3])"
     },
     "execution_count": 3,
     "metadata": {},
     "output_type": "execute_result"
    }
   ],
   "source": [
    "a.shape"
   ],
   "metadata": {
    "collapsed": false,
    "pycharm": {
     "name": "#%%\n"
    }
   }
  },
  {
   "cell_type": "code",
   "execution_count": 4,
   "outputs": [
    {
     "data": {
      "text/plain": "2"
     },
     "execution_count": 4,
     "metadata": {},
     "output_type": "execute_result"
    }
   ],
   "source": [
    "a.ndim"
   ],
   "metadata": {
    "collapsed": false,
    "pycharm": {
     "name": "#%%\n"
    }
   }
  },
  {
   "cell_type": "code",
   "execution_count": 5,
   "outputs": [],
   "source": [
    "a = a*2"
   ],
   "metadata": {
    "collapsed": false,
    "pycharm": {
     "name": "#%%\n"
    }
   }
  },
  {
   "cell_type": "code",
   "execution_count": 6,
   "outputs": [
    {
     "data": {
      "text/plain": "<tf.Tensor: shape=(1, 3), dtype=int32, numpy=array([[2, 4, 6]])>"
     },
     "execution_count": 6,
     "metadata": {},
     "output_type": "execute_result"
    }
   ],
   "source": [
    "a"
   ],
   "metadata": {
    "collapsed": false,
    "pycharm": {
     "name": "#%%\n"
    }
   }
  },
  {
   "cell_type": "code",
   "execution_count": 7,
   "outputs": [
    {
     "data": {
      "text/plain": "<tf.Tensor: shape=(1, 3), dtype=int32, numpy=array([[ 4,  8, 12]])>"
     },
     "execution_count": 7,
     "metadata": {},
     "output_type": "execute_result"
    }
   ],
   "source": [
    "a = a+a\n",
    "a"
   ],
   "metadata": {
    "collapsed": false,
    "pycharm": {
     "name": "#%%\n"
    }
   }
  },
  {
   "cell_type": "code",
   "execution_count": 8,
   "outputs": [],
   "source": [
    "a = tf.concat([a,a,a], axis = 1)\n",
    "a = tf.concat([a,a,a], axis = 0)"
   ],
   "metadata": {
    "collapsed": false,
    "pycharm": {
     "name": "#%%\n"
    }
   }
  },
  {
   "cell_type": "code",
   "execution_count": 9,
   "outputs": [
    {
     "data": {
      "text/plain": "<tf.Tensor: shape=(3, 9), dtype=int32, numpy=\narray([[ 4,  8, 12,  4,  8, 12,  4,  8, 12],\n       [ 4,  8, 12,  4,  8, 12,  4,  8, 12],\n       [ 4,  8, 12,  4,  8, 12,  4,  8, 12]])>"
     },
     "execution_count": 9,
     "metadata": {},
     "output_type": "execute_result"
    }
   ],
   "source": [
    "a"
   ],
   "metadata": {
    "collapsed": false,
    "pycharm": {
     "name": "#%%\n"
    }
   }
  },
  {
   "cell_type": "markdown",
   "source": [
    "# a+ for Matrix addition\n",
    "# a- for Matrix Subtraction\n",
    "# a@ for Matrix Multiplication"
   ],
   "metadata": {
    "collapsed": false,
    "pycharm": {
     "name": "#%% md\n"
    }
   }
  },
  {
   "cell_type": "code",
   "execution_count": 10,
   "outputs": [
    {
     "data": {
      "text/plain": "<tf.Tensor: shape=(), dtype=int32, numpy=216>"
     },
     "execution_count": 10,
     "metadata": {},
     "output_type": "execute_result"
    }
   ],
   "source": [
    "tf.reduce_sum(a) #Gives sum of all elements"
   ],
   "metadata": {
    "collapsed": false,
    "pycharm": {
     "name": "#%%\n"
    }
   }
  },
  {
   "cell_type": "code",
   "execution_count": 12,
   "outputs": [
    {
     "name": "stdout",
     "output_type": "stream",
     "text": [
      "tensorFlow is not using GPU\n"
     ]
    }
   ],
   "source": [
    "if tf.config.list_physical_devices('GPU'):\n",
    "    print('tensorFlow is using GPU')\n",
    "else:\n",
    "    print('tensorFlow is not using GPU')"
   ],
   "metadata": {
    "collapsed": false,
    "pycharm": {
     "name": "#%%\n"
    }
   }
  },
  {
   "cell_type": "code",
   "execution_count": 17,
   "outputs": [],
   "source": [
    "rank1_tensor = tf.constant([1,2,3])\n",
    "rank2_tensor = tf.constant([[1,2], [3,4]])\n",
    "rank3_tensor = tf.constant([[[1,2], [2,3]], [[3,4], [4,5]]])\n",
    "rank4_tensor = tf.constant([[[[1,2], [2,3]], [[3,4], [4,5]]],[[[1,2], [2,3]], [[3,4], [4,5]]]])"
   ],
   "metadata": {
    "collapsed": false,
    "pycharm": {
     "name": "#%%\n"
    }
   }
  },
  {
   "cell_type": "code",
   "execution_count": 18,
   "outputs": [
    {
     "data": {
      "text/plain": "TensorShape([2, 2, 2, 2])"
     },
     "execution_count": 18,
     "metadata": {},
     "output_type": "execute_result"
    }
   ],
   "source": [
    "rank4_tensor.shape"
   ],
   "metadata": {
    "collapsed": false,
    "pycharm": {
     "name": "#%%\n"
    }
   }
  },
  {
   "cell_type": "code",
   "execution_count": 25,
   "outputs": [],
   "source": [
    "rank4_concat_col = tf.concat([rank4_tensor, rank4_tensor, rank4_tensor, rank4_tensor],axis = 1)"
   ],
   "metadata": {
    "collapsed": false,
    "pycharm": {
     "name": "#%%\n"
    }
   }
  },
  {
   "cell_type": "code",
   "execution_count": 26,
   "outputs": [
    {
     "data": {
      "text/plain": "<tf.Tensor: shape=(2, 8, 2, 2), dtype=int32, numpy=\narray([[[[1, 2],\n         [2, 3]],\n\n        [[3, 4],\n         [4, 5]],\n\n        [[1, 2],\n         [2, 3]],\n\n        [[3, 4],\n         [4, 5]],\n\n        [[1, 2],\n         [2, 3]],\n\n        [[3, 4],\n         [4, 5]],\n\n        [[1, 2],\n         [2, 3]],\n\n        [[3, 4],\n         [4, 5]]],\n\n\n       [[[1, 2],\n         [2, 3]],\n\n        [[3, 4],\n         [4, 5]],\n\n        [[1, 2],\n         [2, 3]],\n\n        [[3, 4],\n         [4, 5]],\n\n        [[1, 2],\n         [2, 3]],\n\n        [[3, 4],\n         [4, 5]],\n\n        [[1, 2],\n         [2, 3]],\n\n        [[3, 4],\n         [4, 5]]]])>"
     },
     "execution_count": 26,
     "metadata": {},
     "output_type": "execute_result"
    }
   ],
   "source": [
    "rank4_concat_col"
   ],
   "metadata": {
    "collapsed": false,
    "pycharm": {
     "name": "#%%\n"
    }
   }
  },
  {
   "cell_type": "code",
   "execution_count": 27,
   "outputs": [
    {
     "data": {
      "text/plain": "<tf.Tensor: shape=(8, 2, 2, 2), dtype=int32, numpy=\narray([[[[1, 2],\n         [2, 3]],\n\n        [[3, 4],\n         [4, 5]]],\n\n\n       [[[1, 2],\n         [2, 3]],\n\n        [[3, 4],\n         [4, 5]]],\n\n\n       [[[1, 2],\n         [2, 3]],\n\n        [[3, 4],\n         [4, 5]]],\n\n\n       [[[1, 2],\n         [2, 3]],\n\n        [[3, 4],\n         [4, 5]]],\n\n\n       [[[1, 2],\n         [2, 3]],\n\n        [[3, 4],\n         [4, 5]]],\n\n\n       [[[1, 2],\n         [2, 3]],\n\n        [[3, 4],\n         [4, 5]]],\n\n\n       [[[1, 2],\n         [2, 3]],\n\n        [[3, 4],\n         [4, 5]]],\n\n\n       [[[1, 2],\n         [2, 3]],\n\n        [[3, 4],\n         [4, 5]]]])>"
     },
     "execution_count": 27,
     "metadata": {},
     "output_type": "execute_result"
    }
   ],
   "source": [
    "rank4_concat_row = tf.concat([rank4_tensor, rank4_tensor, rank4_tensor, rank4_tensor],axis = 0)\n",
    "rank4_concat_row"
   ],
   "metadata": {
    "collapsed": false,
    "pycharm": {
     "name": "#%%\n"
    }
   }
  },
  {
   "cell_type": "code",
   "execution_count": null,
   "outputs": [],
   "source": [],
   "metadata": {
    "collapsed": false,
    "pycharm": {
     "name": "#%%\n"
    }
   }
  }
 ],
 "metadata": {
  "kernelspec": {
   "display_name": "Python 3",
   "language": "python",
   "name": "python3"
  },
  "language_info": {
   "codemirror_mode": {
    "name": "ipython",
    "version": 2
   },
   "file_extension": ".py",
   "mimetype": "text/x-python",
   "name": "python",
   "nbconvert_exporter": "python",
   "pygments_lexer": "ipython2",
   "version": "2.7.6"
  }
 },
 "nbformat": 4,
 "nbformat_minor": 0
}